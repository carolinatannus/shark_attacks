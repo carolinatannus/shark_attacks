{
 "cells": [
  {
   "cell_type": "markdown",
   "metadata": {},
   "source": [
    "### Shark Attacks"
   ]
  },
  {
   "cell_type": "markdown",
   "metadata": {},
   "source": [
    "#### Possible questions:\n",
    "\n",
    "a) Within the unprovoked type of incident, which activity suffered the most?\n",
    "> What about provoked accidents?\n",
    "\n",
    "b) Which country has had the biggest number of incidents?\n",
    "> Is the ranking maintained if filtered by fatal accidents?\n",
    "\n",
    "c) Which shark species is most associated with attacks?\n",
    "\n",
    "d) Do the attacks happen with more frequency at a specific time of the day?\n",
    "\n",
    "#### Coding logic:\n",
    "\n",
    "1) Save DataFrame backup \n",
    "\n",
    "2) Perform general table cleaning: (a) remove duplicates, (b) remove entire null rows, (c) adequate column title (lower snake case)\n",
    "\n",
    "3) Select columns related to a specific question\n",
    "\n",
    "4) Understand possible inconsistencies\n",
    "\n",
    "5) Clean data using new variable to save DataFrame"
   ]
  },
  {
   "cell_type": "code",
   "execution_count": 5,
   "metadata": {},
   "outputs": [
    {
     "data": {
      "text/plain": [
       "['shark_analysis.ipynb',\n",
       " 'attacks.csv',\n",
       " 'README.md',\n",
       " '.gitattributes',\n",
       " '.ipynb_checkpoints',\n",
       " '.git']"
      ]
     },
     "execution_count": 5,
     "metadata": {},
     "output_type": "execute_result"
    }
   ],
   "source": [
    "import os\n",
    "os.listdir()"
   ]
  },
  {
   "cell_type": "code",
   "execution_count": 2,
   "metadata": {},
   "outputs": [],
   "source": [
    "import numpy as np\n",
    "import pandas as pd"
   ]
  },
  {
   "cell_type": "code",
   "execution_count": 3,
   "metadata": {},
   "outputs": [
    {
     "data": {
      "text/plain": [
       "'1.14.3'"
      ]
     },
     "execution_count": 3,
     "metadata": {},
     "output_type": "execute_result"
    }
   ],
   "source": [
    "np.__version__"
   ]
  },
  {
   "cell_type": "code",
   "execution_count": 4,
   "metadata": {},
   "outputs": [
    {
     "data": {
      "text/plain": [
       "'0.23.0'"
      ]
     },
     "execution_count": 4,
     "metadata": {},
     "output_type": "execute_result"
    }
   ],
   "source": [
    "pd.__version__"
   ]
  },
  {
   "cell_type": "code",
   "execution_count": 8,
   "metadata": {},
   "outputs": [],
   "source": [
    "# Retrieving database\n",
    "data = pd.read_csv('attacks.csv', encoding='latin-1')"
   ]
  },
  {
   "cell_type": "code",
   "execution_count": 55,
   "metadata": {},
   "outputs": [
    {
     "data": {
      "text/html": [
       "<div>\n",
       "<style scoped>\n",
       "    .dataframe tbody tr th:only-of-type {\n",
       "        vertical-align: middle;\n",
       "    }\n",
       "\n",
       "    .dataframe tbody tr th {\n",
       "        vertical-align: top;\n",
       "    }\n",
       "\n",
       "    .dataframe thead th {\n",
       "        text-align: right;\n",
       "    }\n",
       "</style>\n",
       "<table border=\"1\" class=\"dataframe\">\n",
       "  <thead>\n",
       "    <tr style=\"text-align: right;\">\n",
       "      <th></th>\n",
       "      <th>Case Number</th>\n",
       "      <th>Date</th>\n",
       "      <th>Year</th>\n",
       "      <th>Type</th>\n",
       "      <th>Country</th>\n",
       "      <th>Area</th>\n",
       "      <th>Location</th>\n",
       "      <th>Activity</th>\n",
       "      <th>Name</th>\n",
       "      <th>Sex</th>\n",
       "      <th>...</th>\n",
       "      <th>Species</th>\n",
       "      <th>Investigator or Source</th>\n",
       "      <th>pdf</th>\n",
       "      <th>href formula</th>\n",
       "      <th>href</th>\n",
       "      <th>Case Number.1</th>\n",
       "      <th>Case Number.2</th>\n",
       "      <th>original order</th>\n",
       "      <th>Unnamed: 22</th>\n",
       "      <th>Unnamed: 23</th>\n",
       "    </tr>\n",
       "  </thead>\n",
       "  <tbody>\n",
       "    <tr>\n",
       "      <th>0</th>\n",
       "      <td>2018.06.25</td>\n",
       "      <td>25-Jun-2018</td>\n",
       "      <td>2018.0</td>\n",
       "      <td>Boating</td>\n",
       "      <td>USA</td>\n",
       "      <td>California</td>\n",
       "      <td>Oceanside, San Diego County</td>\n",
       "      <td>Paddling</td>\n",
       "      <td>Julie Wolfe</td>\n",
       "      <td>F</td>\n",
       "      <td>...</td>\n",
       "      <td>White shark</td>\n",
       "      <td>R. Collier, GSAF</td>\n",
       "      <td>2018.06.25-Wolfe.pdf</td>\n",
       "      <td>http://sharkattackfile.net/spreadsheets/pdf_di...</td>\n",
       "      <td>http://sharkattackfile.net/spreadsheets/pdf_di...</td>\n",
       "      <td>2018.06.25</td>\n",
       "      <td>2018.06.25</td>\n",
       "      <td>6303.0</td>\n",
       "      <td>NaN</td>\n",
       "      <td>NaN</td>\n",
       "    </tr>\n",
       "    <tr>\n",
       "      <th>1</th>\n",
       "      <td>2018.06.18</td>\n",
       "      <td>18-Jun-2018</td>\n",
       "      <td>2018.0</td>\n",
       "      <td>Unprovoked</td>\n",
       "      <td>USA</td>\n",
       "      <td>Georgia</td>\n",
       "      <td>St. Simon Island, Glynn County</td>\n",
       "      <td>Standing</td>\n",
       "      <td>Adyson McNeely</td>\n",
       "      <td>F</td>\n",
       "      <td>...</td>\n",
       "      <td>NaN</td>\n",
       "      <td>K.McMurray, TrackingSharks.com</td>\n",
       "      <td>2018.06.18-McNeely.pdf</td>\n",
       "      <td>http://sharkattackfile.net/spreadsheets/pdf_di...</td>\n",
       "      <td>http://sharkattackfile.net/spreadsheets/pdf_di...</td>\n",
       "      <td>2018.06.18</td>\n",
       "      <td>2018.06.18</td>\n",
       "      <td>6302.0</td>\n",
       "      <td>NaN</td>\n",
       "      <td>NaN</td>\n",
       "    </tr>\n",
       "    <tr>\n",
       "      <th>2</th>\n",
       "      <td>2018.06.09</td>\n",
       "      <td>09-Jun-2018</td>\n",
       "      <td>2018.0</td>\n",
       "      <td>Invalid</td>\n",
       "      <td>USA</td>\n",
       "      <td>Hawaii</td>\n",
       "      <td>Habush, Oahu</td>\n",
       "      <td>Surfing</td>\n",
       "      <td>John Denges</td>\n",
       "      <td>M</td>\n",
       "      <td>...</td>\n",
       "      <td>NaN</td>\n",
       "      <td>K.McMurray, TrackingSharks.com</td>\n",
       "      <td>2018.06.09-Denges.pdf</td>\n",
       "      <td>http://sharkattackfile.net/spreadsheets/pdf_di...</td>\n",
       "      <td>http://sharkattackfile.net/spreadsheets/pdf_di...</td>\n",
       "      <td>2018.06.09</td>\n",
       "      <td>2018.06.09</td>\n",
       "      <td>6301.0</td>\n",
       "      <td>NaN</td>\n",
       "      <td>NaN</td>\n",
       "    </tr>\n",
       "    <tr>\n",
       "      <th>3</th>\n",
       "      <td>2018.06.08</td>\n",
       "      <td>08-Jun-2018</td>\n",
       "      <td>2018.0</td>\n",
       "      <td>Unprovoked</td>\n",
       "      <td>AUSTRALIA</td>\n",
       "      <td>New South Wales</td>\n",
       "      <td>Arrawarra Headland</td>\n",
       "      <td>Surfing</td>\n",
       "      <td>male</td>\n",
       "      <td>M</td>\n",
       "      <td>...</td>\n",
       "      <td>2 m shark</td>\n",
       "      <td>B. Myatt, GSAF</td>\n",
       "      <td>2018.06.08-Arrawarra.pdf</td>\n",
       "      <td>http://sharkattackfile.net/spreadsheets/pdf_di...</td>\n",
       "      <td>http://sharkattackfile.net/spreadsheets/pdf_di...</td>\n",
       "      <td>2018.06.08</td>\n",
       "      <td>2018.06.08</td>\n",
       "      <td>6300.0</td>\n",
       "      <td>NaN</td>\n",
       "      <td>NaN</td>\n",
       "    </tr>\n",
       "    <tr>\n",
       "      <th>4</th>\n",
       "      <td>2018.06.04</td>\n",
       "      <td>04-Jun-2018</td>\n",
       "      <td>2018.0</td>\n",
       "      <td>Provoked</td>\n",
       "      <td>MEXICO</td>\n",
       "      <td>Colima</td>\n",
       "      <td>La Ticla</td>\n",
       "      <td>Free diving</td>\n",
       "      <td>Gustavo Ramos</td>\n",
       "      <td>M</td>\n",
       "      <td>...</td>\n",
       "      <td>Tiger shark, 3m</td>\n",
       "      <td>A .Kipper</td>\n",
       "      <td>2018.06.04-Ramos.pdf</td>\n",
       "      <td>http://sharkattackfile.net/spreadsheets/pdf_di...</td>\n",
       "      <td>http://sharkattackfile.net/spreadsheets/pdf_di...</td>\n",
       "      <td>2018.06.04</td>\n",
       "      <td>2018.06.04</td>\n",
       "      <td>6299.0</td>\n",
       "      <td>NaN</td>\n",
       "      <td>NaN</td>\n",
       "    </tr>\n",
       "  </tbody>\n",
       "</table>\n",
       "<p>5 rows × 24 columns</p>\n",
       "</div>"
      ],
      "text/plain": [
       "  Case Number         Date    Year        Type    Country             Area  \\\n",
       "0  2018.06.25  25-Jun-2018  2018.0     Boating        USA       California   \n",
       "1  2018.06.18  18-Jun-2018  2018.0  Unprovoked        USA          Georgia   \n",
       "2  2018.06.09  09-Jun-2018  2018.0     Invalid        USA           Hawaii   \n",
       "3  2018.06.08  08-Jun-2018  2018.0  Unprovoked  AUSTRALIA  New South Wales   \n",
       "4  2018.06.04  04-Jun-2018  2018.0    Provoked     MEXICO           Colima   \n",
       "\n",
       "                         Location     Activity             Name Sex   \\\n",
       "0     Oceanside, San Diego County     Paddling      Julie Wolfe    F   \n",
       "1  St. Simon Island, Glynn County     Standing  Adyson McNeely     F   \n",
       "2                    Habush, Oahu      Surfing      John Denges    M   \n",
       "3              Arrawarra Headland      Surfing             male    M   \n",
       "4                        La Ticla  Free diving   Gustavo Ramos     M   \n",
       "\n",
       "      ...             Species           Investigator or Source  \\\n",
       "0     ...          White shark                R. Collier, GSAF   \n",
       "1     ...                  NaN  K.McMurray, TrackingSharks.com   \n",
       "2     ...                  NaN  K.McMurray, TrackingSharks.com   \n",
       "3     ...            2 m shark                  B. Myatt, GSAF   \n",
       "4     ...      Tiger shark, 3m                       A .Kipper   \n",
       "\n",
       "                        pdf  \\\n",
       "0      2018.06.25-Wolfe.pdf   \n",
       "1    2018.06.18-McNeely.pdf   \n",
       "2     2018.06.09-Denges.pdf   \n",
       "3  2018.06.08-Arrawarra.pdf   \n",
       "4      2018.06.04-Ramos.pdf   \n",
       "\n",
       "                                        href formula  \\\n",
       "0  http://sharkattackfile.net/spreadsheets/pdf_di...   \n",
       "1  http://sharkattackfile.net/spreadsheets/pdf_di...   \n",
       "2  http://sharkattackfile.net/spreadsheets/pdf_di...   \n",
       "3  http://sharkattackfile.net/spreadsheets/pdf_di...   \n",
       "4  http://sharkattackfile.net/spreadsheets/pdf_di...   \n",
       "\n",
       "                                                href Case Number.1  \\\n",
       "0  http://sharkattackfile.net/spreadsheets/pdf_di...    2018.06.25   \n",
       "1  http://sharkattackfile.net/spreadsheets/pdf_di...    2018.06.18   \n",
       "2  http://sharkattackfile.net/spreadsheets/pdf_di...    2018.06.09   \n",
       "3  http://sharkattackfile.net/spreadsheets/pdf_di...    2018.06.08   \n",
       "4  http://sharkattackfile.net/spreadsheets/pdf_di...    2018.06.04   \n",
       "\n",
       "  Case Number.2 original order Unnamed: 22 Unnamed: 23  \n",
       "0    2018.06.25         6303.0         NaN         NaN  \n",
       "1    2018.06.18         6302.0         NaN         NaN  \n",
       "2    2018.06.09         6301.0         NaN         NaN  \n",
       "3    2018.06.08         6300.0         NaN         NaN  \n",
       "4    2018.06.04         6299.0         NaN         NaN  \n",
       "\n",
       "[5 rows x 24 columns]"
      ]
     },
     "execution_count": 55,
     "metadata": {},
     "output_type": "execute_result"
    }
   ],
   "source": [
    "# Understanding database (1)\n",
    "data.head()"
   ]
  },
  {
   "cell_type": "code",
   "execution_count": 10,
   "metadata": {},
   "outputs": [
    {
     "name": "stdout",
     "output_type": "stream",
     "text": [
      "<class 'pandas.core.frame.DataFrame'>\n",
      "RangeIndex: 25723 entries, 0 to 25722\n",
      "Data columns (total 24 columns):\n",
      "Case Number               8702 non-null object\n",
      "Date                      6302 non-null object\n",
      "Year                      6300 non-null float64\n",
      "Type                      6298 non-null object\n",
      "Country                   6252 non-null object\n",
      "Area                      5847 non-null object\n",
      "Location                  5762 non-null object\n",
      "Activity                  5758 non-null object\n",
      "Name                      6092 non-null object\n",
      "Sex                       5737 non-null object\n",
      "Age                       3471 non-null object\n",
      "Injury                    6274 non-null object\n",
      "Fatal (Y/N)               5763 non-null object\n",
      "Time                      2948 non-null object\n",
      "Species                   3464 non-null object\n",
      "Investigator or Source    6285 non-null object\n",
      "pdf                       6302 non-null object\n",
      "href formula              6301 non-null object\n",
      "href                      6302 non-null object\n",
      "Case Number.1             6302 non-null object\n",
      "Case Number.2             6302 non-null object\n",
      "original order            6309 non-null float64\n",
      "Unnamed: 22               1 non-null object\n",
      "Unnamed: 23               2 non-null object\n",
      "dtypes: float64(2), object(22)\n",
      "memory usage: 4.7+ MB\n"
     ]
    }
   ],
   "source": [
    "# Understanding database (2)\n",
    "data.info()"
   ]
  },
  {
   "cell_type": "code",
   "execution_count": 37,
   "metadata": {},
   "outputs": [],
   "source": [
    "# 1) Saving database backup\n",
    "data_bk = data.copy()"
   ]
  },
  {
   "cell_type": "code",
   "execution_count": 36,
   "metadata": {},
   "outputs": [],
   "source": [
    "# 2) Data cleaning: removing duplicates\n",
    "# DataFrame.drop_duplicates(subset=None, keep='first', inplace=False, ignore_index=False)\n",
    "data.drop_duplicates(keep = 'first', inplace = True)"
   ]
  },
  {
   "cell_type": "code",
   "execution_count": 35,
   "metadata": {},
   "outputs": [],
   "source": [
    "# 2) Data cleaning: removing mostly null rows\n",
    "# DataFrame.dropna(axis=0, how='any', thresh=None, subset=None, inplace=False)\n",
    "data.dropna(thresh = 12, axis = 0, how = 'all', inplace = True)"
   ]
  },
  {
   "cell_type": "code",
   "execution_count": 39,
   "metadata": {},
   "outputs": [],
   "source": [
    "# 2) Data cleaning: renaming columns to lower and snake case\n",
    "# TBD"
   ]
  },
  {
   "cell_type": "code",
   "execution_count": 42,
   "metadata": {},
   "outputs": [
    {
     "data": {
      "text/plain": [
       "Index(['Case Number', 'Date', 'Year', 'Type', 'Country', 'Area', 'Location',\n",
       "       'Activity', 'Name', 'Sex ', 'Age', 'Injury', 'Fatal (Y/N)', 'Time',\n",
       "       'Species ', 'Investigator or Source', 'pdf', 'href formula', 'href',\n",
       "       'Case Number.1', 'Case Number.2', 'original order', 'Unnamed: 22',\n",
       "       'Unnamed: 23'],\n",
       "      dtype='object')"
      ]
     },
     "execution_count": 42,
     "metadata": {},
     "output_type": "execute_result"
    }
   ],
   "source": [
    "# 3) Selecting necessary columns to answer question:\n",
    "# Within the unprovoked type of incident, which activity suffered the most?\n",
    "\n",
    "data.columns\n",
    "# Case Number: to be used as ID column\n",
    "# Type: necessary to distinguish between types of incidents\n",
    "# Activity: also necessary to attribute different kinds of activities"
   ]
  },
  {
   "cell_type": "code",
   "execution_count": 43,
   "metadata": {},
   "outputs": [],
   "source": [
    "data_a = data[['Case Number', 'Type', 'Activity']]"
   ]
  },
  {
   "cell_type": "code",
   "execution_count": 50,
   "metadata": {},
   "outputs": [
    {
     "name": "stdout",
     "output_type": "stream",
     "text": [
      "<class 'pandas.core.frame.DataFrame'>\n",
      "Int64Index: 6302 entries, 0 to 6301\n",
      "Data columns (total 3 columns):\n",
      "Case Number    6301 non-null object\n",
      "Type           6298 non-null object\n",
      "Activity       5758 non-null object\n",
      "dtypes: object(3)\n",
      "memory usage: 196.9+ KB\n"
     ]
    }
   ],
   "source": [
    "data_a.info()\n",
    "# TBD: Transform 'Case Number' into date"
   ]
  },
  {
   "cell_type": "code",
   "execution_count": 53,
   "metadata": {},
   "outputs": [
    {
     "data": {
      "text/plain": [
       "Unprovoked      4595\n",
       "Provoked         574\n",
       "Invalid          547\n",
       "Sea Disaster     239\n",
       "Boating          203\n",
       "Boat             137\n",
       "Questionable       2\n",
       "Boatomg            1\n",
       "Name: Type, dtype: int64"
      ]
     },
     "execution_count": 53,
     "metadata": {},
     "output_type": "execute_result"
    }
   ],
   "source": [
    "data_a['Type'].value_counts()\n",
    "# TBD: Disconsider occurences not in ['Unprovoked', 'Provoked']"
   ]
  },
  {
   "cell_type": "code",
   "execution_count": 54,
   "metadata": {},
   "outputs": [
    {
     "data": {
      "text/plain": [
       "Surfing                                                                            971\n",
       "Swimming                                                                           869\n",
       "Fishing                                                                            431\n",
       "Spearfishing                                                                       333\n",
       "Bathing                                                                            162\n",
       "Wading                                                                             149\n",
       "Diving                                                                             127\n",
       "Standing                                                                            99\n",
       "Snorkeling                                                                          89\n",
       "Scuba diving                                                                        76\n",
       "Body boarding                                                                       61\n",
       "Body surfing                                                                        49\n",
       "Swimming                                                                            47\n",
       "Kayaking                                                                            33\n",
       "Treading water                                                                      32\n",
       "Fell overboard                                                                      32\n",
       "Pearl diving                                                                        32\n",
       "Free diving                                                                         29\n",
       "Boogie boarding                                                                     29\n",
       "Windsurfing                                                                         19\n",
       "Walking                                                                             17\n",
       "Boogie Boarding                                                                     16\n",
       "Shark fishing                                                                       15\n",
       "Floating                                                                            14\n",
       "Canoeing                                                                            13\n",
       "Fishing                                                                             13\n",
       "Surf-skiing                                                                         12\n",
       "Rowing                                                                              12\n",
       "Surf fishing                                                                        12\n",
       "Surf skiing                                                                         12\n",
       "                                                                                  ... \n",
       "Freediving, inspecting Kaunakakai wharf construction after blasting & dredging       1\n",
       "Diving, attempting to retrieve body of drowning victim wedged between rocks          1\n",
       "Shark fishing on the Don Agustín-VI.                                                 1\n",
       "Diving in tuna net                                                                   1\n",
       "Treading water while alongside capsized yacht                                        1\n",
       "Wreck of the Aphrodite                                                               1\n",
       "Jumped overboard after murdering 2 shipmates                                         1\n",
       "Fishing / Wading                                                                     1\n",
       "Diving for sinkers                                                                   1\n",
       "Pacific Seafarer of US Navy                                                          1\n",
       "Fell overboard from the ship Gem                                                     1\n",
       "Adrift on a raft                                                                     1\n",
       "Free diving for trochus                                                              1\n",
       "Scuba diving for bivalves                                                            1\n",
       "Floating near boat & observing bioluminesce                                          1\n",
       "Standing / Bathing                                                                   1\n",
       "Crabbing (spearing crabs)                                                            1\n",
       "Fisherman                                                                            1\n",
       "Removing shark from a net                                                            1\n",
       "Floating face down                                                                   1\n",
       "Dog paddling or standing                                                             1\n",
       "Competing in U/W endurance record, standing beside drum in 10' of water              1\n",
       "Sailboarding, fell into water 100 yards outside the breakwater                       1\n",
       "Surfing amid a shoal of sharks                                                       1\n",
       "Slipped off rocks and fell into the water                                            1\n",
       "Fishingat                                                                            1\n",
       "Watching the shark feeding on a dead pinniped                                        1\n",
       "Scuba diving & filming                                                               1\n",
       "Fell overboard from sponge vessel                                                    1\n",
       "Hookah diving for pen shells                                                         1\n",
       "Name: Activity, Length: 1532, dtype: int64"
      ]
     },
     "execution_count": 54,
     "metadata": {},
     "output_type": "execute_result"
    }
   ],
   "source": [
    "data_a['Activity'].value_counts()"
   ]
  },
  {
   "cell_type": "code",
   "execution_count": null,
   "metadata": {},
   "outputs": [],
   "source": [
    "# 3) Selecting necessary columns to answer question:\n",
    "# Which country has had the biggest number of incidents?\n",
    "\n",
    "data.columns: 'Case Number', 'Date', 'Year', 'Type', 'Country', 'Area', 'Location',\n",
    "       'Activity', 'Name', 'Sex ', 'Age', 'Injury', 'Fatal (Y/N)', 'Time',\n",
    "       'Species ', 'Investigator or Source', 'pdf', 'href formula', 'href',\n",
    "       'Case Number.1', 'Case Number.2', 'original order', 'Unnamed: 22',\n",
    "       'Unnamed: 23'\n",
    "# Case Number: to be used as ID column\n",
    "# Country: necessary to group by countries\n",
    "# Fatal (Y/N): (optional) potentially necessary to evaluate accident's gravity"
   ]
  }
 ],
 "metadata": {
  "kernelspec": {
   "display_name": "aulas",
   "language": "python",
   "name": "aulas"
  },
  "language_info": {
   "codemirror_mode": {
    "name": "ipython",
    "version": 3
   },
   "file_extension": ".py",
   "mimetype": "text/x-python",
   "name": "python",
   "nbconvert_exporter": "python",
   "pygments_lexer": "ipython3",
   "version": "3.6.8"
  },
  "varInspector": {
   "cols": {
    "lenName": 16,
    "lenType": 16,
    "lenVar": 40
   },
   "kernels_config": {
    "python": {
     "delete_cmd_postfix": "",
     "delete_cmd_prefix": "del ",
     "library": "var_list.py",
     "varRefreshCmd": "print(var_dic_list())"
    },
    "r": {
     "delete_cmd_postfix": ") ",
     "delete_cmd_prefix": "rm(",
     "library": "var_list.r",
     "varRefreshCmd": "cat(var_dic_list()) "
    }
   },
   "types_to_exclude": [
    "module",
    "function",
    "builtin_function_or_method",
    "instance",
    "_Feature"
   ],
   "window_display": false
  }
 },
 "nbformat": 4,
 "nbformat_minor": 2
}
